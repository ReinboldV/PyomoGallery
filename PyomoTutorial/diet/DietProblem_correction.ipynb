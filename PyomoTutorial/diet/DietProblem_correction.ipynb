{
 "cells": [
  {
   "cell_type": "code",
   "execution_count": 1,
   "metadata": {
    "pycharm": {
     "is_executing": false
    }
   },
   "outputs": [
    {
     "name": "stdout",
     "output_type": "stream",
     "text": [
      "[    0.00] Setting up Pyomo environment\r\n",
      "[    0.00] Applying Pyomo preprocessing actions\r\n",
      "[    0.00] Pyomo Finished\r\n",
      "ERROR: Unexpected exception while running model:\r\n",
      "        File diet2.dat does not exist!\r\n",
      "errorcode: 1\r\n",
      "retval: None\r\n"
     ]
    }
   ],
   "source": [
    "!pyomo solve --solver=glpk diet.py diet2.dat"
   ]
  },
  {
   "cell_type": "markdown",
   "metadata": {},
   "source": [
    "By default, the optimization results are stored in the file `results.json`:"
   ]
  },
  {
   "cell_type": "code",
   "execution_count": 2,
   "metadata": {
    "pycharm": {
     "is_executing": false
    }
   },
   "outputs": [
    {
     "name": "stdout",
     "output_type": "stream",
     "text": [
      "{\r\n",
      "    \"Problem\": [\r\n",
      "        {\r\n",
      "            \"Lower bound\": 15.05,\r\n",
      "            \"Name\": \"unknown\",\r\n",
      "            \"Number of constraints\": 10,\r\n",
      "            \"Number of nonzeros\": 77,\r\n",
      "            \"Number of objectives\": 1,\r\n",
      "            \"Number of variables\": 10,\r\n",
      "            \"Sense\": \"minimize\",\r\n",
      "            \"Upper bound\": 15.05\r\n",
      "        }\r\n",
      "    ],\r\n",
      "    \"Solution\": [\r\n",
      "        {\r\n",
      "            \"number of solutions\": 1,\r\n",
      "            \"number of solutions displayed\": 1\r\n",
      "        },\r\n",
      "        {\r\n",
      "            \"Constraint\": \"No values\",\r\n",
      "            \"Gap\": 0.0,\r\n",
      "            \"Message\": null,\r\n",
      "            \"Objective\": {\r\n",
      "                \"cost\": {\r\n",
      "                    \"Value\": 15.05\r\n",
      "                }\r\n",
      "            },\r\n",
      "            \"Problem\": {},\r\n",
      "            \"Status\": \"optimal\",\r\n",
      "            \"Variable\": {\r\n",
      "                \"x[Cheeseburger]\": {\r\n",
      "                    \"Value\": 4.0\r\n",
      "                },\r\n",
      "                \"x[Fish Sandwich]\": {\r\n",
      "                    \"Value\": 1.0\r\n",
      "                },\r\n",
      "                \"x[Fries]\": {\r\n",
      "                    \"Value\": 5.0\r\n",
      "                },\r\n",
      "                \"x[Lowfat Milk]\": {\r\n",
      "                    \"Value\": 4.0\r\n",
      "                }\r\n",
      "            }\r\n",
      "        }\r\n",
      "    ],\r\n",
      "    \"Solver\": [\r\n",
      "        {\r\n",
      "            \"Error rc\": 0,\r\n",
      "            \"Statistics\": {\r\n",
      "                \"Branch and bound\": {\r\n",
      "                    \"Number of bounded subproblems\": \"23\",\r\n",
      "                    \"Number of created subproblems\": \"23\"\r\n",
      "                }\r\n",
      "            },\r\n",
      "            \"Status\": \"ok\",\r\n",
      "            \"Termination condition\": \"optimal\",\r\n",
      "            \"Time\": 0.007648468017578125\r\n",
      "        }\r\n",
      "    ]\r\n",
      "}"
     ]
    }
   ],
   "source": [
    "!cat results.json"
   ]
  },
  {
   "cell_type": "markdown",
   "metadata": {},
   "source": [
    "This solution shows that for about $13 per day, a person can get by with 7 \n",
    "cheeseburgers, 4 fries, and 1 milks."
   ]
  },
  {
   "cell_type": "markdown",
   "metadata": {},
   "source": [
    "## References\n",
    "\n",
    "* G.B. Dantzig. The Diet Problem, Interfaces 20(4), 1990, 43-47"
   ]
  }
 ],
 "metadata": {
  "kernelspec": {
   "display_name": "Python 3",
   "language": "python",
   "name": "python3"
  },
  "language_info": {
   "codemirror_mode": {
    "name": "ipython",
    "version": 3
   },
   "file_extension": ".py",
   "mimetype": "text/x-python",
   "name": "python",
   "nbconvert_exporter": "python",
   "pygments_lexer": "ipython3",
   "version": "3.7.3"
  },
  "pycharm": {
   "stem_cell": {
    "cell_type": "raw",
    "metadata": {
     "collapsed": false
    },
    "source": []
   }
  }
 },
 "nbformat": 4,
 "nbformat_minor": 4
}
