{
 "cells": [
  {
   "cell_type": "markdown",
   "metadata": {
    "pycharm": {
     "name": "#%% md\n"
    }
   },
   "source": [
    "# MicroGrid Energy Management\n",
    "\n",
    "## Summary\n",
    "\n",
    "The goal of the Microgrid problem is to realize an optimal power flow within the distributed sources, loads, storages and a main grid. This problem can be formulated as a mixed integer linear program, for which constraints constraints, variables and objectives are organized using pyomo blocks. \n",
    "\n",
    "<img src=\"figures/mg_pv_bat_eol_house.png\" width=\"500\">\n",
    "\n",
    "## Problem Statement\n",
    "\n",
    "The Energy Management problem can be formulated mathematically as a mixed integer linear problem using the following model.  \n",
    "\n",
    "### Sets\n",
    " time = ContinuousSet from 0 to H (s)"
   ]
  },
  {
   "cell_type": "code",
   "execution_count": 1,
   "metadata": {
    "slideshow": {
     "slide_type": "notes"
    }
   },
   "outputs": [],
   "source": [
    "from pyomo.environ import *\n",
    "from pyomo.dae import ContinuousSet, Integral\n",
    "\n",
    "H = 60*60*24 # Time horizon in seconds\n",
    "\n",
    "m = AbstractModel()\n",
    "m.time = ContinuousSet(initialize=(0, H))"
   ]
  },
  {
   "cell_type": "markdown",
   "metadata": {
    "pycharm": {
     "name": "#%% md\n"
    }
   },
   "source": [
    "### Blocks\n",
    "\n",
    " - **Maingrid** : A block that describes the model of the distribution grid connection, a base version, named `AbsMainGridV0` is available in `microgrids.maingrids`.\n",
    " - **Renewable Power Source** : A block that describes the model of a PV panels. This will be modeled by a deterministic power profile using a `Param` indexed by the time. Such a block is available in `microgrids.sources.AbsFixedPowerSource`.  \n",
    " - **Power Load** : A block that describes the model of a critical load. This will be modeled by a deterministic power profile using a `Param` indexed by the time. Such a block is available in `microgrids.sources.AbsFixedPowerLoad`.  "
   ]
  },
  {
   "cell_type": "code",
   "execution_count": 2,
   "metadata": {},
   "outputs": [],
   "source": [
    "from batteries import AbsBatteryV0\n",
    "from maingrids import AbsMainGridV0\n",
    "from sources import AbsFixedPowerLoad, AbsFixedPowerSource\n",
    "\n",
    "m.mg = AbsMainGridV0()\n",
    "m.s  = AbsFixedPowerSource()\n",
    "m.l  = AbsFixedPowerLoad()"
   ]
  },
  {
   "cell_type": "markdown",
   "metadata": {},
   "source": [
    "One can print any pyomo object using the `pprint` method. Example : \n",
    "    \n",
    "    m.mg.pprint()\n",
    "One can access documentation of any object using the builtIn method `doc` or `help` function (for heritance). Pop-up documentation shortcut : `Shift+Tab`.\n",
    "\n",
    "    print(m.mg.doc)\n",
    "    help(m.mg)"
   ]
  },
  {
   "cell_type": "code",
   "execution_count": 3,
   "metadata": {},
   "outputs": [],
   "source": [
    "@m.Constraint(m.time)\n",
    "def power_node(m, t):\n",
    "    return m.mg.p[t] + m.s.p[t] == m.l.p[t]"
   ]
  },
  {
   "cell_type": "code",
   "execution_count": 4,
   "metadata": {},
   "outputs": [],
   "source": [
    "m.int = Integral(m.time, wrt=m.time, rule=lambda m, i: m.mg.inst_cost[i])\n",
    "\n",
    "m.obj = Objective(expr=m.int)"
   ]
  },
  {
   "cell_type": "code",
   "execution_count": 5,
   "metadata": {},
   "outputs": [
    {
     "name": "stderr",
     "output_type": "stream",
     "text": [
      "/home/admin/anaconda3/envs/pyomogallery/lib/python3.7/site-packages/pandas/core/arrays/datetimes.py:1269: UserWarning: Converting to PeriodArray/Index representation will drop timezone information.\n",
      "  UserWarning,\n"
     ]
    },
    {
     "data": {
      "text/plain": [
       "<matplotlib.axes._subplots.AxesSubplot at 0x7fefa9609240>"
      ]
     },
     "execution_count": 5,
     "metadata": {},
     "output_type": "execute_result"
    }
   ],
   "source": [
    "%run data/data_models.py\n",
    "df_s[['P_pv', 'P_load_1']].plot(figsize=(15,3))"
   ]
  },
  {
   "cell_type": "code",
   "execution_count": 6,
   "metadata": {},
   "outputs": [
    {
     "name": "stdout",
     "output_type": "stream",
     "text": [
      "time : Dim=0, Dimen=1, Size=2, Domain=None, Ordered=Sorted, Bounds=(0.0, 86400.0)\n",
      "    [0.0, 86400.0]\n"
     ]
    }
   ],
   "source": [
    "inst = m.create_instance(data)\n",
    "inst.time.pprint()"
   ]
  },
  {
   "cell_type": "code",
   "execution_count": 7,
   "metadata": {},
   "outputs": [],
   "source": [
    "from pyomo.environ import TransformationFactory\n",
    "inst = m.create_instance(data)\n",
    "\n",
    "nfe = 60*60*24/(10*60)\n",
    "TransformationFactory('dae.finite_difference').apply_to(inst, nfe=nfe)"
   ]
  }
 ],
 "metadata": {
  "kernelspec": {
   "display_name": "Python 3",
   "language": "python",
   "name": "python3"
  },
  "language_info": {
   "codemirror_mode": {
    "name": "ipython",
    "version": 3
   },
   "file_extension": ".py",
   "mimetype": "text/x-python",
   "name": "python",
   "nbconvert_exporter": "python",
   "pygments_lexer": "ipython3",
   "version": "3.7.3"
  },
  "pycharm": {
   "stem_cell": {
    "cell_type": "raw",
    "metadata": {
     "collapsed": false
    },
    "source": []
   }
  }
 },
 "nbformat": 4,
 "nbformat_minor": 4
}
