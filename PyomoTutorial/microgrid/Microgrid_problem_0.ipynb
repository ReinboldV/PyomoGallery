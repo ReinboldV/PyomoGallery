{
 "cells": [
  {
   "cell_type": "markdown",
   "metadata": {
    "pycharm": {
     "name": "#%% md\n"
    }
   },
   "source": [
    "# MicroGrid Energy Management\n",
    "\n",
    "## Summary\n",
    "\n",
    "The goal of the Microgrid problem is to compute an optimal power flow within the distributed sources, loads, storages and a main grid. On a given time horizon $H$, the optimal power flow poblem aims to find the optimal command of the components, e.g.charging/discharging for storage, seeling/buying for external power sources, turning on/off intellingent loads, etc. KNowing that the power balance must be respected $\\forall t\\in[0,H]$. \n",
    "\n",
    "This problem can be formulated as a mixed integer linear program, for which constraints, variables and objectives are organized using pyomo blocks. \n",
    "\n",
    "<img src=\"figures/mg_pv_bat_eol_house.png\" width=\"500\">\n",
    "\n",
    "## Problem Statement\n",
    "\n",
    "The Energy Management problem can be formulated mathematically as a mixed integer linear problem using the following model.   \n",
    "\n",
    "Plan : \n",
    "1. Definition of sets\n",
    "2. Definitions of distributed sources, loads and charges.\n",
    "3. Definition of the global constraint (Power balance)\n",
    "4. Definition of the objective\n",
    "\n",
    "### Sets\n",
    "\n",
    "The micogrid modelling equieres only one Coninuous Set : the time. We not H the horizon in seconds. "
   ]
  },
  {
   "cell_type": "code",
   "execution_count": 1,
   "metadata": {
    "slideshow": {
     "slide_type": "notes"
    }
   },
   "outputs": [],
   "source": [
    "from pyomo.environ import *\n",
    "from pyomo.dae import ContinuousSet, Integral\n",
    "\n",
    "H = 60*60*24 # Time horizon in seconds\n",
    "\n",
    "m = AbstractModel()\n",
    "m.time = ContinuousSet(initialize=(0, H))"
   ]
  },
  {
   "cell_type": "markdown",
   "metadata": {
    "pycharm": {
     "name": "#%% md\n"
    }
   },
   "source": [
    "### Blocks\n",
    "\n",
    "The microgrid is created by connecting units together, such as batteries, loads, renewable sources, etc. In the pyomo vocabulary, such a components is called a block. \n",
    "\n",
    "As a first step, the microgrid is constituted of a renewable power source (PV panel), a critical load, and a connection to the main grid.\n",
    "\n",
    "A quick descipion of the usefull blocks is following : \n",
    "\n",
    " - **Maingrid** : A block that describes the model of the distribution grid connection, a base version, named `AbsMainGridV0` is available in `microgrids.maingrids`.\n",
    " - **Renewable Power Source** : A block that describes the model of a PV panels. This will be modeled by a deterministic power profile using a `Param` indexed by the time. Such a block is available in `microgrids.sources.AbsFixedPowerSource`.  \n",
    " - **Power Load** : A block that describes the model of a critical load. This will be modeled by a deterministic power profile using a `Param` indexed by the time. Such a block is available in `microgrids.sources.AbsFixedPowerLoad`. \n",
    " \n",
    "Blocks are added to the main problem as follow :  "
   ]
  },
  {
   "cell_type": "code",
   "execution_count": 2,
   "metadata": {},
   "outputs": [],
   "source": [
    "from batteries import AbsBatteryV0\n",
    "from maingrids import AbsMainGridV0\n",
    "from sources import AbsFixedPowerLoad, AbsFixedPowerSource\n",
    "\n",
    "m.mg = AbsMainGridV0()\n",
    "m.s  = AbsFixedPowerSource()\n",
    "m.l  = AbsFixedPowerLoad()"
   ]
  },
  {
   "cell_type": "markdown",
   "metadata": {},
   "source": [
    "Each block is described by a set of constrains, variables, parameter and expressions.\n",
    "\n",
    "One can print any pyomo object using the `pprint` method. Example : \n",
    "  \n",
    "    m.mg.pprint()\n",
    "One can access documentation of any object using the builtIn method `doc` or `help` function (for heritance). Pop-up documentation shortcut : `Shift+Tab`.\n",
    "\n",
    "    print(m.mg.doc)\n",
    "    help(m.mg)\n",
    "    \n",
    "Let's have a look to the maingrid block : "
   ]
  },
  {
   "cell_type": "markdown",
   "metadata": {},
   "source": [
    "### Global Power Constraint\n",
    "\n",
    "The electical connection between blocks is modelled using constraints, aka Kirchhoff’s Laws or power balance :  $$\\sum P_{sources}(t) = \\sum P_{loads}(t), \\forall t \\in [0, H] $$"
   ]
  },
  {
   "cell_type": "code",
   "execution_count": 3,
   "metadata": {},
   "outputs": [],
   "source": [
    "@m.Constraint(m.time)\n",
    "def power_balance(m, t):\n",
    "    return m.mg.p[t] + m.s.p[t] == m.l.p[t]"
   ]
  },
  {
   "cell_type": "markdown",
   "metadata": {},
   "source": [
    "### Objectif\n",
    "\n",
    "As a first hypothesis, we will only consider a fixed selling/buying price of energy $c$, such that : $$J = \\int_{0}^{H} c.p_{mg}(t)$$.\n",
    "\n",
    "Pyomo allows you to make integrals over a continuous set as follow : \n"
   ]
  },
  {
   "cell_type": "code",
   "execution_count": 4,
   "metadata": {},
   "outputs": [],
   "source": [
    "m.int = Integral(m.time, wrt=m.time, rule=lambda m, i: m.mg.inst_cost[i])\n",
    "m.obj = Objective(expr=m.int)"
   ]
  },
  {
   "cell_type": "markdown",
   "metadata": {},
   "source": [
    "## Instantiate the problem, discretize it and solve it\n",
    "\n",
    "`m` is a pyomo Abstract Model, as we saw in the pyomo tutorial. Which meens that the structure of the problem is now completlty defined and may be used for different scenarios or cases. The fllowing steps consern :\n",
    "\n",
    "1. Loading data (scenario, predictions and sizing of the components)\n",
    "2. Instantiate the problem\n",
    "3. Discretization\n",
    "4. Solving\n",
    "\n",
    "### Loading data\n",
    "\n",
    "Parameters, loads and source profiles are already defined in the file `data/datamodels.py`. One can load it and plot PV and Load profiles as followed :"
   ]
  },
  {
   "cell_type": "code",
   "execution_count": 5,
   "metadata": {},
   "outputs": [
    {
     "name": "stderr",
     "output_type": "stream",
     "text": [
      "/home/admin/anaconda3/lib/python3.7/site-packages/pandas/core/arrays/datetimes.py:1172: UserWarning: Converting to PeriodArray/Index representation will drop timezone information.\n",
      "  \"will drop timezone information.\", UserWarning)\n"
     ]
    },
    {
     "data": {
      "text/plain": [
       "<matplotlib.axes._subplots.AxesSubplot at 0x7f966da7d4a8>"
      ]
     },
     "execution_count": 5,
     "metadata": {},
     "output_type": "execute_result"
    }
   ],
   "source": [
    "%run data/data_models.py\n",
    "df_s[['P_pv', 'P_load_1']].plot(figsize=(15,3))"
   ]
  },
  {
   "cell_type": "markdown",
   "metadata": {},
   "source": [
    "### 2. Problem Instantiation\n",
    "\n",
    "The abstract model is instanciate by the previously definied data dictionnary, as follow :"
   ]
  },
  {
   "cell_type": "code",
   "execution_count": 6,
   "metadata": {},
   "outputs": [],
   "source": [
    "inst = m.create_instance(data)"
   ]
  },
  {
   "cell_type": "markdown",
   "metadata": {},
   "source": [
    "### Discretization\n",
    "\n",
    "After instantiation, one can discretize the problem equation over the time horizon. In the folowing, we choose a number of finite element $nfe = 96$ i.e. every $15~ min$ for $H=1\\ day$."
   ]
  },
  {
   "cell_type": "code",
   "execution_count": 7,
   "metadata": {},
   "outputs": [],
   "source": [
    "from pyomo.environ import TransformationFactory\n",
    "inst = m.create_instance(data)\n",
    "\n",
    "nfe = 60*60*24/(15*60)\n",
    "TransformationFactory('dae.finite_difference').apply_to(inst, nfe=nfe)"
   ]
  },
  {
   "cell_type": "markdown",
   "metadata": {},
   "source": [
    "### Solving\n",
    "\n",
    "The problem is solve as follow :"
   ]
  },
  {
   "cell_type": "code",
   "execution_count": 8,
   "metadata": {},
   "outputs": [],
   "source": [
    "opt = SolverFactory(\"glpk\")\n",
    "res = opt.solve(inst, load_solutions=True)"
   ]
  },
  {
   "cell_type": "markdown",
   "metadata": {},
   "source": [
    "## Post-Processing"
   ]
  },
  {
   "cell_type": "code",
   "execution_count": 9,
   "metadata": {},
   "outputs": [
    {
     "data": {
      "text/plain": [
       "([<matplotlib.axes._subplots.AxesSubplot at 0x7f966d45c198>,\n",
       "  <matplotlib.axes._subplots.AxesSubplot at 0x7f966d45c198>,\n",
       "  <matplotlib.axes._subplots.AxesSubplot at 0x7f966d45c198>],\n",
       " <matplotlib.axes._subplots.AxesSubplot at 0x7f966d45c198>,\n",
       " <Figure size 720x360 with 1 Axes>)"
      ]
     },
     "execution_count": 9,
     "metadata": {},
     "output_type": "execute_result"
    },
    {
     "data": {
      "image/png": "[encoded data removed]",
      "text/plain": [
       "<Figure size 720x360 with 1 Axes>"
      ]
     },
     "metadata": {
      "needs_background": "light"
     },
     "output_type": "display_data"
    }
   ],
   "source": [
    "from utils import pplot\n",
    "index = pd.date_range(start = TSTART, end = TEND, periods = nfe+1)\n",
    "pplot(inst.mg.p, inst.l.p, inst.s.p, index = index, marker='x', figsize=(10,5))"
   ]
  }
 ],
 "metadata": {
  "kernelspec": {
   "display_name": "Python 3",
   "language": "python",
   "name": "python3"
  },
  "language_info": {
   "codemirror_mode": {
    "name": "ipython",
    "version": 3
   },
   "file_extension": ".py",
   "mimetype": "text/x-python",
   "name": "python",
   "nbconvert_exporter": "python",
   "pygments_lexer": "ipython3",
   "version": "3.7.3"
  },
  "pycharm": {
   "stem_cell": {
    "cell_type": "raw",
    "metadata": {
     "collapsed": false
    },
    "source": []
   }
  }
 },
 "nbformat": 4,
 "nbformat_minor": 4
}
