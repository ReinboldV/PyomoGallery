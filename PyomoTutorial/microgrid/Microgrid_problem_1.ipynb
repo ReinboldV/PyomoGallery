{
 "cells": [
  {
   "cell_type": "markdown",
   "metadata": {},
   "source": [
    "# MicroGrid Energy Management Problem with storage\n",
    "\n",
    "## I. Consider no selling power to the grid\n",
    "\n",
    "We know suppose that we canot sell energy to the maingrid, *i.e.* $p(t) \\geq 0, \\forall t \\in [0,H]$.\n",
    "\n",
    "1. The necessary code from version 0 has been copyied in the following. Make sure it is all working fine. "
   ]
  },
  {
   "cell_type": "code",
   "execution_count": 37,
   "metadata": {
    "slideshow": {
     "slide_type": "notes"
    }
   },
   "outputs": [],
   "source": []
  },
  {
   "cell_type": "markdown",
   "metadata": {},
   "source": [
    "2. Modifie the model and/or the data so that no power can be selled to the grid. Load the new data dictionary, discretize the problem, and solve it as we saw in version 0."
   ]
  },
  {
   "cell_type": "markdown",
   "metadata": {},
   "source": []
  },
  {
   "cell_type": "code",
   "execution_count": 44,
   "metadata": {},
   "outputs": [],
   "source": []
  },
  {
   "cell_type": "markdown",
   "metadata": {},
   "source": [
    "3. You may run into a convergence problem. Based on the solver outputs, what is the problem (Infeasible or Unbounded) ? Based on the your understanding of the microgrid, what is happening ?"
   ]
  },
  {
   "cell_type": "markdown",
   "metadata": {},
   "source": []
  },
  {
   "cell_type": "markdown",
   "metadata": {},
   "source": [
    "4. Propose a technical solution to the problem."
   ]
  },
  {
   "cell_type": "markdown",
   "metadata": {},
   "source": []
  },
  {
   "cell_type": "markdown",
   "metadata": {},
   "source": [
    "5. We propse to add a battery unit. Find in the library the block that would correspond.\n",
    "\n",
    "    "
   ]
  },
  {
   "cell_type": "markdown",
   "metadata": {},
   "source": []
  },
  {
   "cell_type": "markdown",
   "metadata": {},
   "source": [
    "   5.1. Based on the model you found, describe in the following the model of the battery using latex formatting. \n",
    "   \n",
    "  "
   ]
  },
  {
   "cell_type": "markdown",
   "metadata": {},
   "source": [
    " minimize $$expression$$\n",
    "   \n",
    "   subjected to : $$equations$$\n",
    "   \n",
    "   5.2 What are the hypothesis of this model ?"
   ]
  },
  {
   "cell_type": "markdown",
   "metadata": {},
   "source": []
  },
  {
   "cell_type": "markdown",
   "metadata": {},
   "source": [
    "## II. Adding a storage unit to the microgrid\n",
    "\n",
    "6. implement this block into the model defined in the former version and solve it. "
   ]
  },
  {
   "cell_type": "code",
   "execution_count": 40,
   "metadata": {
    "slideshow": {
     "slide_type": "notes"
    }
   },
   "outputs": [],
   "source": [
    "from pyomo.environ import *\n",
    "from pyomo.dae import ContinuousSet, Integral\n",
    "from batteries import AbsBatteryV0\n",
    "from maingrids import AbsMainGridV0\n",
    "from sources import AbsFixedPowerLoad, AbsFixedPowerSource\n",
    "\n",
    "H = 60*60*24 # Time horizon in seconds\n",
    "m2 = AbstractModel(doc='New microgrid model with battery storage') \n",
    "\n",
    "#\n",
    "# Complete\n",
    "# .."
   ]
  },
  {
   "cell_type": "markdown",
   "metadata": {},
   "source": [
    "**Instantiation & Discretization**\n",
    "\n",
    "Load data and modify them to respect $p(t) \\geq 0$. \n",
    "\n",
    "We will consider the following caracteristics of the battery :\n",
    "- initial energy = 50 kWh  (50%)\n",
    "- final energy = 50 kWh (50%)\n",
    "- maximal energy = 100 kWh (Capacity)\n",
    "- minimal energy = 10 kWh (10%)\n",
    "- maximal charging power = 20 kW\n",
    "- maximal dicharging power = 20 kW\n"
   ]
  },
  {
   "cell_type": "code",
   "execution_count": 41,
   "metadata": {},
   "outputs": [],
   "source": [
    "%run data/data_models.py\n",
    "\n",
    "# data[None]['mg']['pmin'][None] = 0\n",
    "# data[None]['b']['e0'][None] = 0\n",
    "# Complete ..\n"
   ]
  },
  {
   "cell_type": "markdown",
   "metadata": {},
   "source": [
    "**Solve**"
   ]
  },
  {
   "cell_type": "code",
   "execution_count": 42,
   "metadata": {},
   "outputs": [
    {
     "name": "stdout",
     "output_type": "stream",
     "text": [
      "\n",
      "- Status: ok\n",
      "  Termination condition: optimal\n",
      "  Statistics: \n",
      "    Branch and bound: \n",
      "      Number of bounded subproblems: 0\n",
      "      Number of created subproblems: 0\n",
      "  Error rc: 0\n",
      "  Time: 0.02007126808166504\n",
      "\n"
     ]
    }
   ],
   "source": [
    "opt = SolverFactory(\"glpk\")\n",
    "res = opt.solve(inst, load_solutions=True)"
   ]
  },
  {
   "cell_type": "markdown",
   "metadata": {},
   "source": [
    "**Post-Processing**\n",
    "\n",
    "plot the power from all units and the energy stored in the battery with repect to the time."
   ]
  },
  {
   "cell_type": "code",
   "execution_count": 50,
   "metadata": {},
   "outputs": [
    {
     "data": {
      "text/plain": [
       "2.0294266869609337e-05"
      ]
     },
     "execution_count": 50,
     "metadata": {},
     "output_type": "execute_result"
    }
   ],
   "source": [
    "from utils import pplot\n",
    "index = pd.date_range(start = TSTART, end = TEND, periods = nfe+1)\n",
    "\n",
    "# Complete \n",
    "\n",
    "400/(365*15*60*60)"
   ]
  },
  {
   "cell_type": "markdown",
   "metadata": {},
   "source": [
    "## III.Finding the minimal battery capacity\n",
    "\n",
    "We now suppose that the cost of the battery is $400\\ euros/kWh$ and a life cycle of 15 years (including, converter, investement and maintenance). Define a new objectif function that takes into account energy price and investement and maintenance of the battery/converter pack."
   ]
  }
 ],
 "metadata": {
  "kernelspec": {
   "display_name": "Python 3",
   "language": "python",
   "name": "python3"
  },
  "language_info": {
   "codemirror_mode": {
    "name": "ipython",
    "version": 3
   },
   "file_extension": ".py",
   "mimetype": "text/x-python",
   "name": "python",
   "nbconvert_exporter": "python",
   "pygments_lexer": "ipython3",
   "version": "3.7.3"
  }
 },
 "nbformat": 4,
 "nbformat_minor": 2
}
