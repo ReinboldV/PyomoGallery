{
 "cells": [
  {
   "cell_type": "code",
   "execution_count": 1,
   "metadata": {},
   "outputs": [
    {
     "name": "stdout",
     "output_type": "stream",
     "text": [
      "import pyomo\r\n",
      "import pyomo.opt\r\n",
      "import pyomo.environ as pe\r\n",
      "import pandas\r\n",
      "import networkx\r\n",
      "\r\n",
      "class MSTRowGeneration:\r\n",
      "    \"\"\"A class to find Minimum Spanning Tree using a row-generation algorithm.\"\"\"\r\n",
      "\r\n",
      "    def __init__(self, nfile):\r\n",
      "        \"\"\"The input is a CSV file describing the undirected network's edges.\"\"\"\r\n",
      "        self.df = pandas.read_csv(nfile)\r\n",
      "\r\n",
      "        self.createRelaxedModel()\r\n",
      "\r\n",
      "    def createRelaxedModel(self):\r\n",
      "        \"\"\"Create the relaxed model, without any subtour elimination constraints.\"\"\"\r\n",
      "        df = self.df\r\n",
      "        node_set = set( list( df.startNode ) + list(df.destNode) )\r\n",
      "\r\n",
      "        # Create the model and sets\r\n",
      "        m = pe.ConcreteModel()\r\n",
      "\r\n",
      "        df.set_index(['startNode','destNode'], inplace=True)\r\n",
      "        edge_set = df.index.unique()\r\n",
      "\r\n",
      "        m.edge_set = pe.Set(initialize=edge_set, dimen=2)\r\n",
      "        m.node_set = pe.Set(initialize=node_set)\r\n",
      "    \r\n",
      "        # Define variables\r\n",
      "        m.Y = pe.Var(m.edge_set, domain=pe.Binary)\r\n",
      "\r\n",
      "        # Objective\r\n",
      "        def obj_rule(m):\r\n",
      "            return sum( m.Y[e] * df.ix[e,'dist'] for e in m.edge_set)\r\n",
      "        m.OBJ = pe.Objective(rule=obj_rule, sense=pe.minimize)\r\n",
      "\r\n",
      "        # Add the n-1 constraint\r\n",
      "        def simple_const_rule(m):\r\n",
      "            return sum( m.Y[e] for e in m.edge_set ) == len(node_set) - 1\r\n",
      "        m.simpleConst = pe.Constraint(rule = simple_const_rule)\r\n",
      "       \r\n",
      "        # Empty constraint list for subtour elimination constraints\r\n",
      "        # This is where the generated rows will go\r\n",
      "        m.ccConstraints = pe.ConstraintList()\r\n",
      "\r\n",
      "        self.m = m\r\n",
      "\r\n",
      "    def convertYsToNetworkx(self):\r\n",
      "        \"\"\"Convert the model's Y variables into a networkx object.\"\"\"\r\n",
      "        ans = networkx.Graph()\r\n",
      "        edges = [e for e in self.m.edge_set if self.m.Y[e].value > .99]\r\n",
      "        ans.add_edges_from(edges)\r\n",
      "        return ans\r\n",
      "\r\n",
      "    def solve(self):\r\n",
      "        \"\"\"Solve for the MST, using row generation for subtour elimination constraints.\"\"\"\r\n",
      "        def createConstForCC(m, cc):\r\n",
      "            cc = dict.fromkeys(cc)\r\n",
      "            return sum( m.Y[e] for e in m.edge_set if ((e[0] in cc) and (e[1] in cc))) <= len(cc) - 1\r\n",
      "        \r\n",
      "        if not hasattr(self, 'solver'):\r\n",
      "            solver = pyomo.opt.SolverFactory('gurobi')\r\n",
      "\r\n",
      "        done = False\r\n",
      "        while not done:\r\n",
      "            # Solve once and add subtour elimination constraints if necessary\r\n",
      "            # Finish when there are no more subtours\r\n",
      "            results = solver.solve(self.m, tee=False, keepfiles=False, options_string=\"mip_tolerances_integrality=1e-9 mip_tolerances_mipgap=0\")\r\n",
      "            # Construct a graph from the answer, and look for subtours\r\n",
      "            graph = self.convertYsToNetworkx()\r\n",
      "            ccs = list(networkx.connected_component_subgraphs(graph))\r\n",
      "            for cc in ccs:\r\n",
      "                print('Adding constraint for connected component:')\r\n",
      "                print(cc.nodes())\r\n",
      "                print(createConstForCC(self.m, cc))\r\n",
      "                print('--------------\\n')\r\n",
      "                self.m.ccConstraints.add( createConstForCC(self.m, cc) )\r\n",
      "            if ccs[0].number_of_nodes() == len(self.m.node_set):\r\n",
      "                done = True\r\n",
      "\r\n",
      "mst = MSTRowGeneration('mst.csv')\r\n",
      "mst.solve()\r\n",
      "\r\n",
      "mst.m.Y.pprint()\r\n",
      "print(mst.m.OBJ())\r\n"
     ]
    }
   ],
   "source": [
    "!cat mst.py"
   ]
  },
  {
   "cell_type": "code",
   "execution_count": 2,
   "metadata": {},
   "outputs": [
    {
     "name": "stdout",
     "output_type": "stream",
     "text": [
      "mst.py:35: FutureWarning: \r\n",
      ".ix is deprecated. Please use\r\n",
      ".loc for label based indexing or\r\n",
      ".iloc for positional indexing\r\n",
      "\r\n",
      "See the documentation here:\r\n",
      "http://pandas.pydata.org/pandas-docs/stable/user_guide/indexing.html#ix-indexer-is-deprecated\r\n",
      "  return sum( m.Y[e] * df.ix[e,'dist'] for e in m.edge_set)\r\n",
      "WARNING: Could not locate the 'gurobi' executable, which is required for\r\n",
      "    solver gurobi\r\n",
      "Traceback (most recent call last):\r\n",
      "  File \"mst.py\", line 83, in <module>\r\n",
      "    mst.solve()\r\n",
      "  File \"mst.py\", line 69, in solve\r\n",
      "    results = solver.solve(self.m, tee=False, keepfiles=False, options_string=\"mip_tolerances_integrality=1e-9 mip_tolerances_mipgap=0\")\r\n",
      "  File \"/home/admin/anaconda3/envs/pyomogallery/lib/python3.7/site-packages/pyomo/opt/base/solvers.py\", line 516, in solve\r\n",
      "    self.available(exception_flag=True)\r\n",
      "  File \"/home/admin/anaconda3/envs/pyomogallery/lib/python3.7/site-packages/pyomo/solvers/plugins/solvers/GUROBI.py\", line 155, in available\r\n",
      "    val = ILMLicensedSystemCallSolver.available(self, exception_flag)\r\n",
      "  File \"/home/admin/anaconda3/envs/pyomogallery/lib/python3.7/site-packages/pyomo/opt/solver/ilmcmd.py\", line 36, in available\r\n",
      "    if not pyomo.opt.solver.shellcmd.SystemCallSolver.available(self, exception_flag):\r\n",
      "  File \"/home/admin/anaconda3/envs/pyomogallery/lib/python3.7/site-packages/pyomo/opt/solver/shellcmd.py\", line 118, in available\r\n",
      "    raise ApplicationError(msg % self.name)\r\n",
      "pyutilib.common._exceptions.ApplicationError: No executable found for solver 'gurobi'\r\n"
     ]
    }
   ],
   "source": [
    "!python mst.py"
   ]
  }
 ],
 "metadata": {
  "kernelspec": {
   "display_name": "Python 3",
   "language": "python",
   "name": "python3"
  },
  "language_info": {
   "codemirror_mode": {
    "name": "ipython",
    "version": 3
   },
   "file_extension": ".py",
   "mimetype": "text/x-python",
   "name": "python",
   "nbconvert_exporter": "python",
   "pygments_lexer": "ipython3",
   "version": "3.7.3"
  }
 },
 "nbformat": 4,
 "nbformat_minor": 1
}
