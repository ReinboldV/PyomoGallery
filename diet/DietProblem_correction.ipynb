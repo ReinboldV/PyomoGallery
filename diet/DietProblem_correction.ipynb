{
 "cells": [
  {
   "cell_type": "code",
   "execution_count": 2,
   "metadata": {
    "pycharm": {
     "is_executing": false
    }
   },
   "outputs": [
    {
     "name": "stdout",
     "output_type": "stream",
     "text": [
      "[    0.00] Setting up Pyomo environment\n",
      "[    0.00] Applying Pyomo preprocessing actions\n",
      "[    0.01] Creating model\n",
      "WARNING: DEPRECATED: Chained inequalities are deprecated. Use the inequality()\n",
      "    function to express ranged inequality expressions.\n",
      "WARNING: DEPRECATED: Chained inequalities are deprecated. Use the inequality()\n",
      "    function to express ranged inequality expressions.\n",
      "WARNING: DEPRECATED: Chained inequalities are deprecated. Use the inequality()\n",
      "    function to express ranged inequality expressions.\n",
      "WARNING: DEPRECATED: Chained inequalities are deprecated. Use the inequality()\n",
      "    function to express ranged inequality expressions.\n",
      "WARNING: DEPRECATED: Chained inequalities are deprecated. Use the inequality()\n",
      "    function to express ranged inequality expressions.\n",
      "WARNING: DEPRECATED: Chained inequalities are deprecated. Use the inequality()\n",
      "    function to express ranged inequality expressions.\n",
      "WARNING: DEPRECATED: Chained inequalities are deprecated. Use the inequality()\n",
      "    function to express ranged inequality expressions.\n",
      "[    0.03] Applying solver\n",
      "[    0.05] Processing results\n",
      "    Number of solutions: 1\n",
      "    Solution Information\n",
      "      Gap: 0.0\n",
      "      Status: optimal\n",
      "      Function Value: 13.280000000000001\n",
      "    Solver results file: results.json\n",
      "[    0.06] Applying Pyomo postprocessing actions\n",
      "[    0.06] Pyomo Finished\n",
      "errorcode: 0\n",
      "retval: instance: <pyomo.core.base.PyomoModel.ConcreteModel object at 0x7ff99eae3e58>\n",
      "local:\n",
      "    time_initial_import: 0.005157470703125\n",
      "    usermodel: <module 'diet' from '/home/admin/Documents/02-Recherche/02-Python/PyomoGallery/diet/diet.py'>\n",
      "options: <pyutilib.misc.config.ConfigBlock object at 0x7ff99eb39228>\n",
      "results: {'Problem': [{'Name': 'unknown', 'Lower bound': 13.28, 'Upper bound': 13.28, 'Number of objectives': 1, 'Number of constraints': 10, 'Number of variables': 11, 'Number of nonzeros': 86, 'Sense': 'minimize'}], 'Solver': [{'Status': 'ok', 'Termination condition': 'optimal', 'Statistics': {'Branch and bound': {'Number of bounded subproblems': '7', 'Number of created subproblems': '7'}}, 'Error rc': 0, 'Time': 0.007894754409790039}], 'Solution': [OrderedDict([('number of solutions', 1), ('number of solutions displayed', 1)]), {'Gap': 0.0, 'Status': 'optimal', 'Message': None, 'Problem': {}, 'Objective': {'cost': {'Value': 13.280000000000001}}, 'Variable': {'x[Fries]': {'Value': 4.0}, 'x[Lowfat Milk]': {'Value': 3.0}, 'x[Acaraje]': {'Value': 7.0}}, 'Constraint': {}}]}\n"
     ]
    }
   ],
   "source": [
    "!pyomo solve --solver=glpk diet.py diet2.dat"
   ]
  },
  {
   "cell_type": "markdown",
   "metadata": {},
   "source": [
    "By default, the optimization results are stored in the file `results.json`:"
   ]
  },
  {
   "cell_type": "code",
   "execution_count": 3,
   "metadata": {
    "pycharm": {
     "is_executing": false
    }
   },
   "outputs": [
    {
     "name": "stdout",
     "output_type": "stream",
     "text": [
      "{\n",
      "    \"Problem\": [\n",
      "        {\n",
      "            \"Lower bound\": 13.28,\n",
      "            \"Name\": \"unknown\",\n",
      "            \"Number of constraints\": 10,\n",
      "            \"Number of nonzeros\": 86,\n",
      "            \"Number of objectives\": 1,\n",
      "            \"Number of variables\": 11,\n",
      "            \"Sense\": \"minimize\",\n",
      "            \"Upper bound\": 13.28\n",
      "        }\n",
      "    ],\n",
      "    \"Solution\": [\n",
      "        {\n",
      "            \"number of solutions\": 1,\n",
      "            \"number of solutions displayed\": 1\n",
      "        },\n",
      "        {\n",
      "            \"Constraint\": \"No values\",\n",
      "            \"Gap\": 0.0,\n",
      "            \"Message\": null,\n",
      "            \"Objective\": {\n",
      "                \"cost\": {\n",
      "                    \"Value\": 13.280000000000001\n",
      "                }\n",
      "            },\n",
      "            \"Problem\": {},\n",
      "            \"Status\": \"optimal\",\n",
      "            \"Variable\": {\n",
      "                \"x[Acaraje]\": {\n",
      "                    \"Value\": 7.0\n",
      "                },\n",
      "                \"x[Fries]\": {\n",
      "                    \"Value\": 4.0\n",
      "                },\n",
      "                \"x[Lowfat Milk]\": {\n",
      "                    \"Value\": 3.0\n",
      "                }\n",
      "            }\n",
      "        }\n",
      "    ],\n",
      "    \"Solver\": [\n",
      "        {\n",
      "            \"Error rc\": 0,\n",
      "            \"Statistics\": {\n",
      "                \"Branch and bound\": {\n",
      "                    \"Number of bounded subproblems\": \"7\",\n",
      "                    \"Number of created subproblems\": \"7\"\n",
      "                }\n",
      "            },\n",
      "            \"Status\": \"ok\",\n",
      "            \"Termination condition\": \"optimal\",\n",
      "            \"Time\": 0.007894754409790039\n",
      "        }\n",
      "    ]\n",
      "}"
     ]
    }
   ],
   "source": [
    "!cat results.json"
   ]
  },
  {
   "cell_type": "markdown",
   "metadata": {},
   "source": [
    "This solution shows that for about $13 per day, a person can get by with 7 \n",
    "cheeseburgers, 4 fries, and 1 milks."
   ]
  },
  {
   "cell_type": "markdown",
   "metadata": {},
   "source": [
    "## References\n",
    "\n",
    "* G.B. Dantzig. The Diet Problem, Interfaces 20(4), 1990, 43-47"
   ]
  }
 ],
 "metadata": {
  "kernelspec": {
   "display_name": "Python 3",
   "language": "python",
   "name": "python3"
  },
  "language_info": {
   "codemirror_mode": {
    "name": "ipython",
    "version": 3
   },
   "file_extension": ".py",
   "mimetype": "text/x-python",
   "name": "python",
   "nbconvert_exporter": "python",
   "pygments_lexer": "ipython3",
   "version": "3.7.3"
  },
  "pycharm": {
   "stem_cell": {
    "cell_type": "raw",
    "metadata": {
     "collapsed": false
    },
    "source": []
   }
  }
 },
 "nbformat": 4,
 "nbformat_minor": 4
}
