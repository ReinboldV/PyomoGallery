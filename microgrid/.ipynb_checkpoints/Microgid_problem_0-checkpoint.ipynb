{
 "cells": [
  {
   "cell_type": "markdown",
   "metadata": {
    "pycharm": {
     "name": "#%% md\n"
    }
   },
   "source": [
    "# The Diet Problem\n",
    "\n",
    "## Summary\n",
    "\n",
    "The goal of the Microgrid problem is to realize an optimal power flow within the distributed sources, loads, storages and a main grid. This problem can be formulated as a mixed integer linear program, for which constraints constraints, variables and objectives are organized using pyomo blocks. \n",
    "\n",
    "<img src=\"figures/mg_pv_bat_eol_house.png\" width=\"500\">\n",
    "\n",
    "## Problem Statement\n",
    "\n",
    "The Energy Management problem can be formulated mathematically as a mixed integer linear problem using the following model.  \n",
    "\n",
    "### Sets\n",
    " time = ContinuousSet from 0 to H (s)"
   ]
  },
  {
   "cell_type": "code",
   "execution_count": 12,
   "metadata": {},
   "outputs": [],
   "source": [
    "from pyomo.environ import *\n",
    "from pyomo.dae import ContinuousSet\n",
    "\n",
    "H = 60*60*24 # Time horizon in seconds\n",
    "\n",
    "m = AbstractModel()\n",
    "m.time = ContinuousSet(initialize=(0, H))"
   ]
  },
  {
   "cell_type": "markdown",
   "metadata": {
    "pycharm": {
     "name": "#%% md\n"
    }
   },
   "source": [
    "### Blocks\n",
    "\n",
    " - **Maingrid** : A block that describes the model of the distribution grid connection, a base version, named `AbsMainGridV0` is available in `microgrids.maingrids`.\n",
    " - **Renewable Power Source** : A block that describes the model of a PV panels. This will be modeled by a deterministic power profile using a `Param` indexed by the time. Such a block is available in `microgrids.sources.AbsFixedPowerSource`.  \n",
    " - **Power Load** : A block that describes the model of a critical load. This will be modeled by a deterministic power profile using a `Param` indexed by the time. Such a block is available in `microgrids.sources.AbsFixedPowerLoad`.  "
   ]
  },
  {
   "cell_type": "code",
   "execution_count": 13,
   "metadata": {},
   "outputs": [],
   "source": [
    "from batteries import AbsBatteryV0\n",
    "from maingrids import AbsMainGridV0\n",
    "from sources import AbsFixedPowerLoad, AbsFixedPowerSource\n",
    "\n",
    "m.mg = AbsMainGridV0()\n",
    "m.s  = AbsFixedPowerSource()\n",
    "m.l  = AbsFixedPowerLoad()"
   ]
  },
  {
   "cell_type": "markdown",
   "metadata": {},
   "source": [
    "One can print any pyomo object using the `pprint` method. Example : \n",
    "    \n",
    "    m.mg.pprint()\n",
    "One can access documentation of any object using the builtIn method `doc` or `help` function (for heritance). \n",
    "\n",
    "    print(m.mg.doc)\n",
    "    help(m.mg)"
   ]
  },
  {
   "cell_type": "markdown",
   "metadata": {
    "pycharm": {
     "name": "#%% md\n"
    }
   },
   "source": [
    "### Parameters\n",
    "\n",
    " $c_i$ = cost per serving of food $i$, $\\forall i \\in F$  \n",
    " $a_{ij}$ = amount of nutrient $j$ in food $i$, $\\forall i \\in F, \\forall j \\in N$  \n",
    " $Nmin_j$ = minimum level of nutrient $j$, $\\forall j \\in N$  \n",
    " $Nmax_j$ = maximum level of nutrient $j$, $\\forall j \\in N$  \n",
    " $V_i$ = the volume per serving of food $i$, $\\forall i \\in F$  \n",
    " $Vmax$ = maximum volume of food consumed\n",
    " \n",
    "### Variables\n",
    " $x_i$ = number of servings of food $i$ to consume\n",
    "\n",
    "### Objective\n",
    "\n",
    "Minimize the total cost of the food  \n",
    " $\\min \\sum_{i \\in F} c_i x_i$\n",
    "\n",
    "### Constraints\n",
    "\n",
    "Limit nutrient consumption for each nutrient $j \\in N$.  \n",
    " $Nmin_j \\leq \\sum_{i \\in F} a_{ij} x_i \\leq Nmax_j$, $\\forall j \\in N$\n",
    "\n",
    "Limit the volume of food consumed  \n",
    " $\\sum_{i \\in F} V_i x_i \\leq Vmax$\n",
    " \n",
    "Consumption lower bound  \n",
    " $x_i \\geq 0$, $\\forall i \\in F$\n",
    " "
   ]
  }
 ],
 "metadata": {
  "kernelspec": {
   "display_name": "Python 3",
   "language": "python",
   "name": "python3"
  },
  "language_info": {
   "codemirror_mode": {
    "name": "ipython",
    "version": 3
   },
   "file_extension": ".py",
   "mimetype": "text/x-python",
   "name": "python",
   "nbconvert_exporter": "python",
   "pygments_lexer": "ipython3",
   "version": "3.7.3"
  },
  "pycharm": {
   "stem_cell": {
    "cell_type": "raw",
    "metadata": {
     "collapsed": false
    },
    "source": []
   }
  }
 },
 "nbformat": 4,
 "nbformat_minor": 2
}
