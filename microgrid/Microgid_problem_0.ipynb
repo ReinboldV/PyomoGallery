{
 "cells": [
  {
   "cell_type": "markdown",
   "metadata": {
    "collapsed": true,
    "pycharm": {
     "name": "#%% md\n"
    }
   },
   "source": [
    "# The Diet Problem\n",
    "\n",
    "## Summary\n",
    "\n",
    "The goal of the Microgrid problem is to realize an optimal power flow within the distributed sources, loads, storages and a main grid. This problem can be formulated as a mixed integer linear program, for which constraints constraints, variables and objectives are organized using pyomo blocks. \n",
    "\n",
    "![title](figures/mg_pv_bat_eol_house.png)\n",
    "\n",
    "\n",
    "## Problem Statement\n",
    "\n",
    "The Energy Management problem can be formulated mathematically as a mixed integer linear problem using the following model.  \n",
    "\n",
    "### Sets\n",
    " time = ContinuousSet from 0 to H (s)\n",
    "\n",
    "### Blocks\n",
    "\n",
    " mg      : Maingrid component with fixed selling and buying energy prices \n",
    " \n",
    " pv      : Photovoltaïc panels with deterministic power output forecasts \n",
    " \n",
    " loads   : Fixed  \n",
    "\n",
    "### Parameters\n",
    "\n",
    " $c_i$ = cost per serving of food $i$, $\\forall i \\in F$  \n",
    " $a_{ij}$ = amount of nutrient $j$ in food $i$, $\\forall i \\in F, \\forall j \\in N$  \n",
    " $Nmin_j$ = minimum level of nutrient $j$, $\\forall j \\in N$  \n",
    " $Nmax_j$ = maximum level of nutrient $j$, $\\forall j \\in N$  \n",
    " $V_i$ = the volume per serving of food $i$, $\\forall i \\in F$  \n",
    " $Vmax$ = maximum volume of food consumed\n",
    " \n",
    "### Variables\n",
    " $x_i$ = number of servings of food $i$ to consume\n",
    "\n",
    "### Objective\n",
    "\n",
    "Minimize the total cost of the food  \n",
    " $\\min \\sum_{i \\in F} c_i x_i$\n",
    "\n",
    "### Constraints\n",
    "\n",
    "Limit nutrient consumption for each nutrient $j \\in N$.  \n",
    " $Nmin_j \\leq \\sum_{i \\in F} a_{ij} x_i \\leq Nmax_j$, $\\forall j \\in N$\n",
    "\n",
    "Limit the volume of food consumed  \n",
    " $\\sum_{i \\in F} V_i x_i \\leq Vmax$\n",
    " \n",
    "Consumption lower bound  \n",
    " $x_i \\geq 0$, $\\forall i \\in F$\n",
    " "
   ]
  }
 ],
 "metadata": {
  "kernelspec": {
   "display_name": "Python 3",
   "language": "python",
   "name": "python3"
  },
  "language_info": {
   "codemirror_mode": {
    "name": "ipython",
    "version": 2
   },
   "file_extension": ".py",
   "mimetype": "text/x-python",
   "name": "python",
   "nbconvert_exporter": "python",
   "pygments_lexer": "ipython2",
   "version": "2.7.6"
  },
  "pycharm": {
   "stem_cell": {
    "cell_type": "raw",
    "source": [],
    "metadata": {
     "collapsed": false
    }
   }
  }
 },
 "nbformat": 4,
 "nbformat_minor": 0
}